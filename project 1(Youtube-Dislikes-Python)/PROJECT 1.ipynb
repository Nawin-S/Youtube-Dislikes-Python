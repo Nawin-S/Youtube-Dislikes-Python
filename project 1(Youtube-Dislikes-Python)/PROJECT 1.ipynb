{
 "cells": [
  {
   "cell_type": "markdown",
   "id": "706b3d56",
   "metadata": {},
   "source": [
    "## IMPORTING DATA SET"
   ]
  },
  {
   "cell_type": "code",
   "execution_count": 8,
   "id": "e18d1e5b",
   "metadata": {},
   "outputs": [],
   "source": [
    "import numpy as np\n",
    "import pandas as pd\n",
    "import matplotlib.pyplot as plt\n",
    "import seaborn as sns"
   ]
  },
  {
   "cell_type": "code",
   "execution_count": 2,
   "id": "553447ae",
   "metadata": {},
   "outputs": [
    {
     "data": {
      "text/html": [
       "<div>\n",
       "<style scoped>\n",
       "    .dataframe tbody tr th:only-of-type {\n",
       "        vertical-align: middle;\n",
       "    }\n",
       "\n",
       "    .dataframe tbody tr th {\n",
       "        vertical-align: top;\n",
       "    }\n",
       "\n",
       "    .dataframe thead th {\n",
       "        text-align: right;\n",
       "    }\n",
       "</style>\n",
       "<table border=\"1\" class=\"dataframe\">\n",
       "  <thead>\n",
       "    <tr style=\"text-align: right;\">\n",
       "      <th></th>\n",
       "      <th>video_id</th>\n",
       "      <th>title</th>\n",
       "      <th>channel_id</th>\n",
       "      <th>channel_title</th>\n",
       "      <th>published_at</th>\n",
       "      <th>view_count</th>\n",
       "      <th>likes</th>\n",
       "      <th>dislikes</th>\n",
       "      <th>comment_count</th>\n",
       "      <th>tags</th>\n",
       "      <th>description</th>\n",
       "      <th>comments</th>\n",
       "    </tr>\n",
       "  </thead>\n",
       "  <tbody>\n",
       "    <tr>\n",
       "      <th>0</th>\n",
       "      <td>--0bCF-iK2E</td>\n",
       "      <td>Jadon Sancho  Magical Skills &amp; Goals</td>\n",
       "      <td>UC6UL29enLNe4mqwTfAyeNuw</td>\n",
       "      <td>Bundesliga</td>\n",
       "      <td>2021-07-01 10:00:00</td>\n",
       "      <td>1048888</td>\n",
       "      <td>19515</td>\n",
       "      <td>226</td>\n",
       "      <td>1319</td>\n",
       "      <td>football soccer ftbol alemn Bundesliga season ...</td>\n",
       "      <td>Enjoy the best skills and goals from Jadon San...</td>\n",
       "      <td>Respect to Dortmund fans,must be sad losing hi...</td>\n",
       "    </tr>\n",
       "    <tr>\n",
       "      <th>1</th>\n",
       "      <td>--14w5SOEUs</td>\n",
       "      <td>Migos - Avalanche (Official Video)</td>\n",
       "      <td>UCGIelM2Dj3zza3xyV3pL3WQ</td>\n",
       "      <td>MigosVEVO</td>\n",
       "      <td>2021-06-10 16:00:00</td>\n",
       "      <td>15352638</td>\n",
       "      <td>359277</td>\n",
       "      <td>7479</td>\n",
       "      <td>18729</td>\n",
       "      <td>Migos Avalanche Quality Control Music/Motown R...</td>\n",
       "      <td>Watch the the official video for Migos - \"Aval...</td>\n",
       "      <td>Migos just makes me want to live my live to th...</td>\n",
       "    </tr>\n",
       "    <tr>\n",
       "      <th>2</th>\n",
       "      <td>--40TEbZ9Is</td>\n",
       "      <td>Supporting Actress in a Comedy: 73rd Emmys</td>\n",
       "      <td>UClBKH8yZRcM4AsRjDVEdjMg</td>\n",
       "      <td>Television Academy</td>\n",
       "      <td>2021-09-20 01:03:32</td>\n",
       "      <td>925281</td>\n",
       "      <td>11212</td>\n",
       "      <td>401</td>\n",
       "      <td>831</td>\n",
       "      <td></td>\n",
       "      <td>Hannah Waddingham wins the Emmy for Supporting...</td>\n",
       "      <td>Hannah's energy bursts through any screen. Wel...</td>\n",
       "    </tr>\n",
       "    <tr>\n",
       "      <th>3</th>\n",
       "      <td>--4tfbSyYDE</td>\n",
       "      <td>JO1'YOUNG (JO1 ver.)' PERFORMANCE VIDEO</td>\n",
       "      <td>UCsmXiDP8S40uBeJYxvyulmA</td>\n",
       "      <td>JO1</td>\n",
       "      <td>2021-03-03 10:00:17</td>\n",
       "      <td>2641597</td>\n",
       "      <td>39131</td>\n",
       "      <td>441</td>\n",
       "      <td>3745</td>\n",
       "      <td>PRODUCE101JAPAN              JO1   TheSTAR STA...</td>\n",
       "      <td>JO1'YOUNG (JO1 ver.)' PERFORMANCE VIDEO\\n\\n---...</td>\n",
       "      <td>youngVer&gt;&lt;  REN is really PERFECT. It's not ju...</td>\n",
       "    </tr>\n",
       "    <tr>\n",
       "      <th>4</th>\n",
       "      <td>--DKkzWVh-E</td>\n",
       "      <td>Why Retaining Walls Collapse</td>\n",
       "      <td>UCMOqf8ab-42UUQIdVoKwjlQ</td>\n",
       "      <td>Practical Engineering</td>\n",
       "      <td>2021-12-07 13:00:00</td>\n",
       "      <td>715724</td>\n",
       "      <td>32887</td>\n",
       "      <td>367</td>\n",
       "      <td>1067</td>\n",
       "      <td>retaining wall New Jersey highway Direct Conne...</td>\n",
       "      <td>One of the most important (and innocuous) part...</td>\n",
       "      <td>Keep up with all my projects here: https://pr...</td>\n",
       "    </tr>\n",
       "    <tr>\n",
       "      <th>...</th>\n",
       "      <td>...</td>\n",
       "      <td>...</td>\n",
       "      <td>...</td>\n",
       "      <td>...</td>\n",
       "      <td>...</td>\n",
       "      <td>...</td>\n",
       "      <td>...</td>\n",
       "      <td>...</td>\n",
       "      <td>...</td>\n",
       "      <td>...</td>\n",
       "      <td>...</td>\n",
       "      <td>...</td>\n",
       "    </tr>\n",
       "    <tr>\n",
       "      <th>37417</th>\n",
       "      <td>zzd4ydafGR0</td>\n",
       "      <td>Lil Tjay - Calling My Phone (feat. 6LACK) [Off...</td>\n",
       "      <td>UCEB4a5o_6KfjxHwNMnmj54Q</td>\n",
       "      <td>Lil Tjay</td>\n",
       "      <td>2021-02-12 05:03:49</td>\n",
       "      <td>120408275</td>\n",
       "      <td>2180780</td>\n",
       "      <td>35871</td>\n",
       "      <td>81360</td>\n",
       "      <td>Lil Tjay Steady Calling My Phone Calling My Ph...</td>\n",
       "      <td>Official video for \"Calling My Phone\" by Lil T...</td>\n",
       "      <td>'DESTINED 2 WIN' OUT NOW !! https://liltjay.ln...</td>\n",
       "    </tr>\n",
       "    <tr>\n",
       "      <th>37418</th>\n",
       "      <td>zziBybeSAtw</td>\n",
       "      <td>PELICANS at LAKERS | FULL GAME HIGHLIGHTS | Ja...</td>\n",
       "      <td>UCWJ2lWNubArHWmf3FIHbfcQ</td>\n",
       "      <td>NBA</td>\n",
       "      <td>2021-01-16 05:39:05</td>\n",
       "      <td>2841917</td>\n",
       "      <td>20759</td>\n",
       "      <td>1049</td>\n",
       "      <td>2624</td>\n",
       "      <td>NBA G League Basketball game-0022000187 Lakers...</td>\n",
       "      <td>PELICANS at LAKERS | FULL GAME HIGHLIGHTS | Ja...</td>\n",
       "      <td>Montrezl Harrell is going crazy with the rebou...</td>\n",
       "    </tr>\n",
       "    <tr>\n",
       "      <th>37419</th>\n",
       "      <td>zzk09ESX7e0</td>\n",
       "      <td>[MV]  (MAMAMOO) - Where Are We Now</td>\n",
       "      <td>UCuhAUMLzJxlP1W7mEk0_6lA</td>\n",
       "      <td>MAMAMOO</td>\n",
       "      <td>2021-06-02 09:00:10</td>\n",
       "      <td>13346678</td>\n",
       "      <td>720854</td>\n",
       "      <td>4426</td>\n",
       "      <td>90616</td>\n",
       "      <td>MAMAMOO  WAW  WAW MAMAMOO WAW Where Are We Now...</td>\n",
       "      <td>[MV]  (MAMAMOO) - Where Are We Now\\n\\nInstagra...</td>\n",
       "      <td>I honestly do not know why this song hit so ha...</td>\n",
       "    </tr>\n",
       "    <tr>\n",
       "      <th>37420</th>\n",
       "      <td>zzmQEb0Em5I</td>\n",
       "      <td>FELLIPE ESCUDERO- Master Podcast  #12</td>\n",
       "      <td>UC8NjnNWMsRqq11NYvHAQb1g</td>\n",
       "      <td>Master Podcast</td>\n",
       "      <td>2020-10-20 20:59:30</td>\n",
       "      <td>252057</td>\n",
       "      <td>19198</td>\n",
       "      <td>1234</td>\n",
       "      <td>1471</td>\n",
       "      <td>master masterpodcast lord lord vinheteiro z z ...</td>\n",
       "      <td>DOCTOR HAIR\\nhttps://www.thedoctorhair.com/?fb...</td>\n",
       "      <td>Foi um prazer passar esta tarde com vocs debat...</td>\n",
       "    </tr>\n",
       "    <tr>\n",
       "      <th>37421</th>\n",
       "      <td>zzxPZwaA-8w</td>\n",
       "      <td>Gareth Bale brace secures dramatic comeback on...</td>\n",
       "      <td>UCEg25rdRZXg32iwai6N6l0w</td>\n",
       "      <td>Tottenham Hotspur</td>\n",
       "      <td>2021-05-23 21:00:31</td>\n",
       "      <td>2252090</td>\n",
       "      <td>34063</td>\n",
       "      <td>868</td>\n",
       "      <td>2004</td>\n",
       "      <td>Spurs Tottenham Hotspur   Tottenham Leicester ...</td>\n",
       "      <td>Two minute highlights from Tottenham Hotspur's...</td>\n",
       "      <td>Thank you Kane for everything you have given t...</td>\n",
       "    </tr>\n",
       "  </tbody>\n",
       "</table>\n",
       "<p>37422 rows × 12 columns</p>\n",
       "</div>"
      ],
      "text/plain": [
       "          video_id                                              title  \\\n",
       "0      --0bCF-iK2E               Jadon Sancho  Magical Skills & Goals   \n",
       "1      --14w5SOEUs                 Migos - Avalanche (Official Video)   \n",
       "2      --40TEbZ9Is         Supporting Actress in a Comedy: 73rd Emmys   \n",
       "3      --4tfbSyYDE            JO1'YOUNG (JO1 ver.)' PERFORMANCE VIDEO   \n",
       "4      --DKkzWVh-E                       Why Retaining Walls Collapse   \n",
       "...            ...                                                ...   \n",
       "37417  zzd4ydafGR0  Lil Tjay - Calling My Phone (feat. 6LACK) [Off...   \n",
       "37418  zziBybeSAtw  PELICANS at LAKERS | FULL GAME HIGHLIGHTS | Ja...   \n",
       "37419  zzk09ESX7e0                 [MV]  (MAMAMOO) - Where Are We Now   \n",
       "37420  zzmQEb0Em5I              FELLIPE ESCUDERO- Master Podcast  #12   \n",
       "37421  zzxPZwaA-8w  Gareth Bale brace secures dramatic comeback on...   \n",
       "\n",
       "                     channel_id          channel_title         published_at  \\\n",
       "0      UC6UL29enLNe4mqwTfAyeNuw             Bundesliga  2021-07-01 10:00:00   \n",
       "1      UCGIelM2Dj3zza3xyV3pL3WQ              MigosVEVO  2021-06-10 16:00:00   \n",
       "2      UClBKH8yZRcM4AsRjDVEdjMg     Television Academy  2021-09-20 01:03:32   \n",
       "3      UCsmXiDP8S40uBeJYxvyulmA                    JO1  2021-03-03 10:00:17   \n",
       "4      UCMOqf8ab-42UUQIdVoKwjlQ  Practical Engineering  2021-12-07 13:00:00   \n",
       "...                         ...                    ...                  ...   \n",
       "37417  UCEB4a5o_6KfjxHwNMnmj54Q               Lil Tjay  2021-02-12 05:03:49   \n",
       "37418  UCWJ2lWNubArHWmf3FIHbfcQ                    NBA  2021-01-16 05:39:05   \n",
       "37419  UCuhAUMLzJxlP1W7mEk0_6lA                MAMAMOO  2021-06-02 09:00:10   \n",
       "37420  UC8NjnNWMsRqq11NYvHAQb1g         Master Podcast  2020-10-20 20:59:30   \n",
       "37421  UCEg25rdRZXg32iwai6N6l0w      Tottenham Hotspur  2021-05-23 21:00:31   \n",
       "\n",
       "       view_count    likes  dislikes  comment_count  \\\n",
       "0         1048888    19515       226           1319   \n",
       "1        15352638   359277      7479          18729   \n",
       "2          925281    11212       401            831   \n",
       "3         2641597    39131       441           3745   \n",
       "4          715724    32887       367           1067   \n",
       "...           ...      ...       ...            ...   \n",
       "37417   120408275  2180780     35871          81360   \n",
       "37418     2841917    20759      1049           2624   \n",
       "37419    13346678   720854      4426          90616   \n",
       "37420      252057    19198      1234           1471   \n",
       "37421     2252090    34063       868           2004   \n",
       "\n",
       "                                                    tags  \\\n",
       "0      football soccer ftbol alemn Bundesliga season ...   \n",
       "1      Migos Avalanche Quality Control Music/Motown R...   \n",
       "2                                                          \n",
       "3      PRODUCE101JAPAN              JO1   TheSTAR STA...   \n",
       "4      retaining wall New Jersey highway Direct Conne...   \n",
       "...                                                  ...   \n",
       "37417  Lil Tjay Steady Calling My Phone Calling My Ph...   \n",
       "37418  NBA G League Basketball game-0022000187 Lakers...   \n",
       "37419  MAMAMOO  WAW  WAW MAMAMOO WAW Where Are We Now...   \n",
       "37420  master masterpodcast lord lord vinheteiro z z ...   \n",
       "37421  Spurs Tottenham Hotspur   Tottenham Leicester ...   \n",
       "\n",
       "                                             description  \\\n",
       "0      Enjoy the best skills and goals from Jadon San...   \n",
       "1      Watch the the official video for Migos - \"Aval...   \n",
       "2      Hannah Waddingham wins the Emmy for Supporting...   \n",
       "3      JO1'YOUNG (JO1 ver.)' PERFORMANCE VIDEO\\n\\n---...   \n",
       "4      One of the most important (and innocuous) part...   \n",
       "...                                                  ...   \n",
       "37417  Official video for \"Calling My Phone\" by Lil T...   \n",
       "37418  PELICANS at LAKERS | FULL GAME HIGHLIGHTS | Ja...   \n",
       "37419  [MV]  (MAMAMOO) - Where Are We Now\\n\\nInstagra...   \n",
       "37420  DOCTOR HAIR\\nhttps://www.thedoctorhair.com/?fb...   \n",
       "37421  Two minute highlights from Tottenham Hotspur's...   \n",
       "\n",
       "                                                comments  \n",
       "0      Respect to Dortmund fans,must be sad losing hi...  \n",
       "1      Migos just makes me want to live my live to th...  \n",
       "2      Hannah's energy bursts through any screen. Wel...  \n",
       "3      youngVer><  REN is really PERFECT. It's not ju...  \n",
       "4       Keep up with all my projects here: https://pr...  \n",
       "...                                                  ...  \n",
       "37417  'DESTINED 2 WIN' OUT NOW !! https://liltjay.ln...  \n",
       "37418  Montrezl Harrell is going crazy with the rebou...  \n",
       "37419  I honestly do not know why this song hit so ha...  \n",
       "37420  Foi um prazer passar esta tarde com vocs debat...  \n",
       "37421  Thank you Kane for everything you have given t...  \n",
       "\n",
       "[37422 rows x 12 columns]"
      ]
     },
     "execution_count": 2,
     "metadata": {},
     "output_type": "execute_result"
    }
   ],
   "source": [
    "df = pd.read_csv('youtube_dislike_dataset.csv')\n",
    "df"
   ]
  },
  {
   "cell_type": "markdown",
   "id": "69e5bc36",
   "metadata": {},
   "source": [
    "## 1. Import required libraries and read the provided dataset (youtube_dislike_dataset.csv) and retrieve top 5 and bottom 5 records."
   ]
  },
  {
   "cell_type": "markdown",
   "id": "78c40c25",
   "metadata": {},
   "source": [
    "## Top 5 records"
   ]
  },
  {
   "cell_type": "code",
   "execution_count": 30,
   "id": "e90bab3a",
   "metadata": {},
   "outputs": [
    {
     "data": {
      "text/html": [
       "<div>\n",
       "<style scoped>\n",
       "    .dataframe tbody tr th:only-of-type {\n",
       "        vertical-align: middle;\n",
       "    }\n",
       "\n",
       "    .dataframe tbody tr th {\n",
       "        vertical-align: top;\n",
       "    }\n",
       "\n",
       "    .dataframe thead th {\n",
       "        text-align: right;\n",
       "    }\n",
       "</style>\n",
       "<table border=\"1\" class=\"dataframe\">\n",
       "  <thead>\n",
       "    <tr style=\"text-align: right;\">\n",
       "      <th></th>\n",
       "      <th>video_id</th>\n",
       "      <th>title</th>\n",
       "      <th>channel_id</th>\n",
       "      <th>channel_title</th>\n",
       "      <th>published_at</th>\n",
       "      <th>view_count</th>\n",
       "      <th>likes</th>\n",
       "      <th>dislikes</th>\n",
       "      <th>comment_count</th>\n",
       "      <th>tags</th>\n",
       "      <th>description</th>\n",
       "      <th>comments</th>\n",
       "    </tr>\n",
       "  </thead>\n",
       "  <tbody>\n",
       "    <tr>\n",
       "      <th>0</th>\n",
       "      <td>--0bCF-iK2E</td>\n",
       "      <td>Jadon Sancho  Magical Skills &amp; Goals</td>\n",
       "      <td>UC6UL29enLNe4mqwTfAyeNuw</td>\n",
       "      <td>Bundesliga</td>\n",
       "      <td>2021-07-01 10:00:00</td>\n",
       "      <td>1048888</td>\n",
       "      <td>19515</td>\n",
       "      <td>226</td>\n",
       "      <td>1319</td>\n",
       "      <td>football soccer ftbol alemn Bundesliga season ...</td>\n",
       "      <td>Enjoy the best skills and goals from Jadon San...</td>\n",
       "      <td>Respect to Dortmund fans,must be sad losing hi...</td>\n",
       "    </tr>\n",
       "    <tr>\n",
       "      <th>1</th>\n",
       "      <td>--14w5SOEUs</td>\n",
       "      <td>Migos - Avalanche (Official Video)</td>\n",
       "      <td>UCGIelM2Dj3zza3xyV3pL3WQ</td>\n",
       "      <td>MigosVEVO</td>\n",
       "      <td>2021-06-10 16:00:00</td>\n",
       "      <td>15352638</td>\n",
       "      <td>359277</td>\n",
       "      <td>7479</td>\n",
       "      <td>18729</td>\n",
       "      <td>Migos Avalanche Quality Control Music/Motown R...</td>\n",
       "      <td>Watch the the official video for Migos - \"Aval...</td>\n",
       "      <td>Migos just makes me want to live my live to th...</td>\n",
       "    </tr>\n",
       "    <tr>\n",
       "      <th>2</th>\n",
       "      <td>--40TEbZ9Is</td>\n",
       "      <td>Supporting Actress in a Comedy: 73rd Emmys</td>\n",
       "      <td>UClBKH8yZRcM4AsRjDVEdjMg</td>\n",
       "      <td>Television Academy</td>\n",
       "      <td>2021-09-20 01:03:32</td>\n",
       "      <td>925281</td>\n",
       "      <td>11212</td>\n",
       "      <td>401</td>\n",
       "      <td>831</td>\n",
       "      <td></td>\n",
       "      <td>Hannah Waddingham wins the Emmy for Supporting...</td>\n",
       "      <td>Hannah's energy bursts through any screen. Wel...</td>\n",
       "    </tr>\n",
       "    <tr>\n",
       "      <th>3</th>\n",
       "      <td>--4tfbSyYDE</td>\n",
       "      <td>JO1'YOUNG (JO1 ver.)' PERFORMANCE VIDEO</td>\n",
       "      <td>UCsmXiDP8S40uBeJYxvyulmA</td>\n",
       "      <td>JO1</td>\n",
       "      <td>2021-03-03 10:00:17</td>\n",
       "      <td>2641597</td>\n",
       "      <td>39131</td>\n",
       "      <td>441</td>\n",
       "      <td>3745</td>\n",
       "      <td>PRODUCE101JAPAN              JO1   TheSTAR STA...</td>\n",
       "      <td>JO1'YOUNG (JO1 ver.)' PERFORMANCE VIDEO\\n\\n---...</td>\n",
       "      <td>youngVer&gt;&lt;  REN is really PERFECT. It's not ju...</td>\n",
       "    </tr>\n",
       "    <tr>\n",
       "      <th>4</th>\n",
       "      <td>--DKkzWVh-E</td>\n",
       "      <td>Why Retaining Walls Collapse</td>\n",
       "      <td>UCMOqf8ab-42UUQIdVoKwjlQ</td>\n",
       "      <td>Practical Engineering</td>\n",
       "      <td>2021-12-07 13:00:00</td>\n",
       "      <td>715724</td>\n",
       "      <td>32887</td>\n",
       "      <td>367</td>\n",
       "      <td>1067</td>\n",
       "      <td>retaining wall New Jersey highway Direct Conne...</td>\n",
       "      <td>One of the most important (and innocuous) part...</td>\n",
       "      <td>Keep up with all my projects here: https://pr...</td>\n",
       "    </tr>\n",
       "  </tbody>\n",
       "</table>\n",
       "</div>"
      ],
      "text/plain": [
       "      video_id                                       title  \\\n",
       "0  --0bCF-iK2E        Jadon Sancho  Magical Skills & Goals   \n",
       "1  --14w5SOEUs          Migos - Avalanche (Official Video)   \n",
       "2  --40TEbZ9Is  Supporting Actress in a Comedy: 73rd Emmys   \n",
       "3  --4tfbSyYDE     JO1'YOUNG (JO1 ver.)' PERFORMANCE VIDEO   \n",
       "4  --DKkzWVh-E                Why Retaining Walls Collapse   \n",
       "\n",
       "                 channel_id          channel_title         published_at  \\\n",
       "0  UC6UL29enLNe4mqwTfAyeNuw             Bundesliga  2021-07-01 10:00:00   \n",
       "1  UCGIelM2Dj3zza3xyV3pL3WQ              MigosVEVO  2021-06-10 16:00:00   \n",
       "2  UClBKH8yZRcM4AsRjDVEdjMg     Television Academy  2021-09-20 01:03:32   \n",
       "3  UCsmXiDP8S40uBeJYxvyulmA                    JO1  2021-03-03 10:00:17   \n",
       "4  UCMOqf8ab-42UUQIdVoKwjlQ  Practical Engineering  2021-12-07 13:00:00   \n",
       "\n",
       "   view_count   likes  dislikes  comment_count  \\\n",
       "0     1048888   19515       226           1319   \n",
       "1    15352638  359277      7479          18729   \n",
       "2      925281   11212       401            831   \n",
       "3     2641597   39131       441           3745   \n",
       "4      715724   32887       367           1067   \n",
       "\n",
       "                                                tags  \\\n",
       "0  football soccer ftbol alemn Bundesliga season ...   \n",
       "1  Migos Avalanche Quality Control Music/Motown R...   \n",
       "2                                                      \n",
       "3  PRODUCE101JAPAN              JO1   TheSTAR STA...   \n",
       "4  retaining wall New Jersey highway Direct Conne...   \n",
       "\n",
       "                                         description  \\\n",
       "0  Enjoy the best skills and goals from Jadon San...   \n",
       "1  Watch the the official video for Migos - \"Aval...   \n",
       "2  Hannah Waddingham wins the Emmy for Supporting...   \n",
       "3  JO1'YOUNG (JO1 ver.)' PERFORMANCE VIDEO\\n\\n---...   \n",
       "4  One of the most important (and innocuous) part...   \n",
       "\n",
       "                                            comments  \n",
       "0  Respect to Dortmund fans,must be sad losing hi...  \n",
       "1  Migos just makes me want to live my live to th...  \n",
       "2  Hannah's energy bursts through any screen. Wel...  \n",
       "3  youngVer><  REN is really PERFECT. It's not ju...  \n",
       "4   Keep up with all my projects here: https://pr...  "
      ]
     },
     "execution_count": 30,
     "metadata": {},
     "output_type": "execute_result"
    }
   ],
   "source": [
    "df.head(5)"
   ]
  },
  {
   "cell_type": "markdown",
   "id": "1ba399ab",
   "metadata": {},
   "source": [
    "## Bottom 5 records"
   ]
  },
  {
   "cell_type": "code",
   "execution_count": 31,
   "id": "510ba947",
   "metadata": {},
   "outputs": [
    {
     "data": {
      "text/html": [
       "<div>\n",
       "<style scoped>\n",
       "    .dataframe tbody tr th:only-of-type {\n",
       "        vertical-align: middle;\n",
       "    }\n",
       "\n",
       "    .dataframe tbody tr th {\n",
       "        vertical-align: top;\n",
       "    }\n",
       "\n",
       "    .dataframe thead th {\n",
       "        text-align: right;\n",
       "    }\n",
       "</style>\n",
       "<table border=\"1\" class=\"dataframe\">\n",
       "  <thead>\n",
       "    <tr style=\"text-align: right;\">\n",
       "      <th></th>\n",
       "      <th>video_id</th>\n",
       "      <th>title</th>\n",
       "      <th>channel_id</th>\n",
       "      <th>channel_title</th>\n",
       "      <th>published_at</th>\n",
       "      <th>view_count</th>\n",
       "      <th>likes</th>\n",
       "      <th>dislikes</th>\n",
       "      <th>comment_count</th>\n",
       "      <th>tags</th>\n",
       "      <th>description</th>\n",
       "      <th>comments</th>\n",
       "    </tr>\n",
       "  </thead>\n",
       "  <tbody>\n",
       "    <tr>\n",
       "      <th>37417</th>\n",
       "      <td>zzd4ydafGR0</td>\n",
       "      <td>Lil Tjay - Calling My Phone (feat. 6LACK) [Off...</td>\n",
       "      <td>UCEB4a5o_6KfjxHwNMnmj54Q</td>\n",
       "      <td>Lil Tjay</td>\n",
       "      <td>2021-02-12 05:03:49</td>\n",
       "      <td>120408275</td>\n",
       "      <td>2180780</td>\n",
       "      <td>35871</td>\n",
       "      <td>81360</td>\n",
       "      <td>Lil Tjay Steady Calling My Phone Calling My Ph...</td>\n",
       "      <td>Official video for \"Calling My Phone\" by Lil T...</td>\n",
       "      <td>'DESTINED 2 WIN' OUT NOW !! https://liltjay.ln...</td>\n",
       "    </tr>\n",
       "    <tr>\n",
       "      <th>37418</th>\n",
       "      <td>zziBybeSAtw</td>\n",
       "      <td>PELICANS at LAKERS | FULL GAME HIGHLIGHTS | Ja...</td>\n",
       "      <td>UCWJ2lWNubArHWmf3FIHbfcQ</td>\n",
       "      <td>NBA</td>\n",
       "      <td>2021-01-16 05:39:05</td>\n",
       "      <td>2841917</td>\n",
       "      <td>20759</td>\n",
       "      <td>1049</td>\n",
       "      <td>2624</td>\n",
       "      <td>NBA G League Basketball game-0022000187 Lakers...</td>\n",
       "      <td>PELICANS at LAKERS | FULL GAME HIGHLIGHTS | Ja...</td>\n",
       "      <td>Montrezl Harrell is going crazy with the rebou...</td>\n",
       "    </tr>\n",
       "    <tr>\n",
       "      <th>37419</th>\n",
       "      <td>zzk09ESX7e0</td>\n",
       "      <td>[MV]  (MAMAMOO) - Where Are We Now</td>\n",
       "      <td>UCuhAUMLzJxlP1W7mEk0_6lA</td>\n",
       "      <td>MAMAMOO</td>\n",
       "      <td>2021-06-02 09:00:10</td>\n",
       "      <td>13346678</td>\n",
       "      <td>720854</td>\n",
       "      <td>4426</td>\n",
       "      <td>90616</td>\n",
       "      <td>MAMAMOO  WAW  WAW MAMAMOO WAW Where Are We Now...</td>\n",
       "      <td>[MV]  (MAMAMOO) - Where Are We Now\\n\\nInstagra...</td>\n",
       "      <td>I honestly do not know why this song hit so ha...</td>\n",
       "    </tr>\n",
       "    <tr>\n",
       "      <th>37420</th>\n",
       "      <td>zzmQEb0Em5I</td>\n",
       "      <td>FELLIPE ESCUDERO- Master Podcast  #12</td>\n",
       "      <td>UC8NjnNWMsRqq11NYvHAQb1g</td>\n",
       "      <td>Master Podcast</td>\n",
       "      <td>2020-10-20 20:59:30</td>\n",
       "      <td>252057</td>\n",
       "      <td>19198</td>\n",
       "      <td>1234</td>\n",
       "      <td>1471</td>\n",
       "      <td>master masterpodcast lord lord vinheteiro z z ...</td>\n",
       "      <td>DOCTOR HAIR\\nhttps://www.thedoctorhair.com/?fb...</td>\n",
       "      <td>Foi um prazer passar esta tarde com vocs debat...</td>\n",
       "    </tr>\n",
       "    <tr>\n",
       "      <th>37421</th>\n",
       "      <td>zzxPZwaA-8w</td>\n",
       "      <td>Gareth Bale brace secures dramatic comeback on...</td>\n",
       "      <td>UCEg25rdRZXg32iwai6N6l0w</td>\n",
       "      <td>Tottenham Hotspur</td>\n",
       "      <td>2021-05-23 21:00:31</td>\n",
       "      <td>2252090</td>\n",
       "      <td>34063</td>\n",
       "      <td>868</td>\n",
       "      <td>2004</td>\n",
       "      <td>Spurs Tottenham Hotspur   Tottenham Leicester ...</td>\n",
       "      <td>Two minute highlights from Tottenham Hotspur's...</td>\n",
       "      <td>Thank you Kane for everything you have given t...</td>\n",
       "    </tr>\n",
       "  </tbody>\n",
       "</table>\n",
       "</div>"
      ],
      "text/plain": [
       "          video_id                                              title  \\\n",
       "37417  zzd4ydafGR0  Lil Tjay - Calling My Phone (feat. 6LACK) [Off...   \n",
       "37418  zziBybeSAtw  PELICANS at LAKERS | FULL GAME HIGHLIGHTS | Ja...   \n",
       "37419  zzk09ESX7e0                 [MV]  (MAMAMOO) - Where Are We Now   \n",
       "37420  zzmQEb0Em5I              FELLIPE ESCUDERO- Master Podcast  #12   \n",
       "37421  zzxPZwaA-8w  Gareth Bale brace secures dramatic comeback on...   \n",
       "\n",
       "                     channel_id      channel_title         published_at  \\\n",
       "37417  UCEB4a5o_6KfjxHwNMnmj54Q           Lil Tjay  2021-02-12 05:03:49   \n",
       "37418  UCWJ2lWNubArHWmf3FIHbfcQ                NBA  2021-01-16 05:39:05   \n",
       "37419  UCuhAUMLzJxlP1W7mEk0_6lA            MAMAMOO  2021-06-02 09:00:10   \n",
       "37420  UC8NjnNWMsRqq11NYvHAQb1g     Master Podcast  2020-10-20 20:59:30   \n",
       "37421  UCEg25rdRZXg32iwai6N6l0w  Tottenham Hotspur  2021-05-23 21:00:31   \n",
       "\n",
       "       view_count    likes  dislikes  comment_count  \\\n",
       "37417   120408275  2180780     35871          81360   \n",
       "37418     2841917    20759      1049           2624   \n",
       "37419    13346678   720854      4426          90616   \n",
       "37420      252057    19198      1234           1471   \n",
       "37421     2252090    34063       868           2004   \n",
       "\n",
       "                                                    tags  \\\n",
       "37417  Lil Tjay Steady Calling My Phone Calling My Ph...   \n",
       "37418  NBA G League Basketball game-0022000187 Lakers...   \n",
       "37419  MAMAMOO  WAW  WAW MAMAMOO WAW Where Are We Now...   \n",
       "37420  master masterpodcast lord lord vinheteiro z z ...   \n",
       "37421  Spurs Tottenham Hotspur   Tottenham Leicester ...   \n",
       "\n",
       "                                             description  \\\n",
       "37417  Official video for \"Calling My Phone\" by Lil T...   \n",
       "37418  PELICANS at LAKERS | FULL GAME HIGHLIGHTS | Ja...   \n",
       "37419  [MV]  (MAMAMOO) - Where Are We Now\\n\\nInstagra...   \n",
       "37420  DOCTOR HAIR\\nhttps://www.thedoctorhair.com/?fb...   \n",
       "37421  Two minute highlights from Tottenham Hotspur's...   \n",
       "\n",
       "                                                comments  \n",
       "37417  'DESTINED 2 WIN' OUT NOW !! https://liltjay.ln...  \n",
       "37418  Montrezl Harrell is going crazy with the rebou...  \n",
       "37419  I honestly do not know why this song hit so ha...  \n",
       "37420  Foi um prazer passar esta tarde com vocs debat...  \n",
       "37421  Thank you Kane for everything you have given t...  "
      ]
     },
     "execution_count": 31,
     "metadata": {},
     "output_type": "execute_result"
    }
   ],
   "source": [
    "df.tail(5)"
   ]
  },
  {
   "cell_type": "markdown",
   "id": "ece9c1b2",
   "metadata": {},
   "source": [
    "## 2. Check the info of the dataframe and write your inferences on data types and shape of the dataset."
   ]
  },
  {
   "cell_type": "code",
   "execution_count": 32,
   "id": "1db9382d",
   "metadata": {
    "scrolled": true
   },
   "outputs": [
    {
     "data": {
      "text/plain": [
       "(video_id         object\n",
       " title            object\n",
       " channel_id       object\n",
       " channel_title    object\n",
       " published_at     object\n",
       " view_count        int64\n",
       " likes             int64\n",
       " dislikes          int64\n",
       " comment_count     int64\n",
       " tags             object\n",
       " description      object\n",
       " comments         object\n",
       " dtype: object,\n",
       " (37422, 12))"
      ]
     },
     "execution_count": 32,
     "metadata": {},
     "output_type": "execute_result"
    }
   ],
   "source": [
    "df.dtypes,df.shape"
   ]
  },
  {
   "cell_type": "raw",
   "id": "a431c0c2",
   "metadata": {},
   "source": [
    "Data Types (Dtypes):\n",
    "\n",
    "video_id, title, channel_id, channel_title, published_at, tags, and description are of type object, which typically represents strings.\n",
    "view_count, likes, dislikes, and comment_count are of type int64, which represents integer values.\n",
    "comments is also of type object, but without further context, it's not clear what type of data it contains. It might be text-based data or some other kind of object.\n",
    "shape of the Dataset:\n",
    "\n",
    "The dataset contains 37,422 rows (also known as records or observations) and 12 columns (also known as features or variables). This indicates that you have a moderately large dataset with a good number of data points.\n",
    "Based on the provided data types, it seems like this dataset might be related to videos and their attributes on a platform like YouTube. The video_id could be a unique identifier for each video, while the title, channel_id, channel_title, published_at, tags, and description columns could contain information about the video's title, the channel it belongs to, when it was published, tags associated with it, and a description of the video.\n",
    "\n",
    "The numeric columns such as view_count, likes, dislikes, and comment_count suggest that the dataset likely includes information about the popularity and engagement metrics of the videos.\n",
    "\n",
    "The comments column could potentially contain textual data such as user comments related to the videos, but without more context, it's hard to provide a precise interpretation.\n",
    "\n",
    "Remember that these inferences are based solely on the provided data types and shape information. To gain a deeper understanding of the dataset and draw more accurate conclusions, it's important to perform exploratory data analysis, understand the context of the data, and examine the actual data values."
   ]
  },
  {
   "cell_type": "markdown",
   "id": "12b9af5c",
   "metadata": {},
   "source": [
    "## 3. Check for the Percentage of the missing values and drop or impute them."
   ]
  },
  {
   "cell_type": "code",
   "execution_count": 33,
   "id": "f3b0f19b",
   "metadata": {},
   "outputs": [
    {
     "data": {
      "text/plain": [
       "video_id         0.000000\n",
       "title            0.000000\n",
       "channel_id       0.000000\n",
       "channel_title    0.000000\n",
       "published_at     0.000000\n",
       "view_count       0.000000\n",
       "likes            0.000000\n",
       "dislikes         0.000000\n",
       "comment_count    0.000000\n",
       "tags             0.000000\n",
       "description      0.000000\n",
       "comments         0.422212\n",
       "dtype: float64"
      ]
     },
     "execution_count": 33,
     "metadata": {},
     "output_type": "execute_result"
    }
   ],
   "source": [
    "missing_value_percentage = (df.isnull().sum()/len(df))*100\n",
    "missing_value_percentage"
   ]
  },
  {
   "cell_type": "code",
   "execution_count": 34,
   "id": "88405526",
   "metadata": {},
   "outputs": [],
   "source": [
    "df = df.dropna()"
   ]
  },
  {
   "cell_type": "code",
   "execution_count": 35,
   "id": "ce6a5e8b",
   "metadata": {},
   "outputs": [
    {
     "data": {
      "text/plain": [
       "video_id         0.0\n",
       "title            0.0\n",
       "channel_id       0.0\n",
       "channel_title    0.0\n",
       "published_at     0.0\n",
       "view_count       0.0\n",
       "likes            0.0\n",
       "dislikes         0.0\n",
       "comment_count    0.0\n",
       "tags             0.0\n",
       "description      0.0\n",
       "comments         0.0\n",
       "dtype: float64"
      ]
     },
     "execution_count": 35,
     "metadata": {},
     "output_type": "execute_result"
    }
   ],
   "source": [
    "missing_value_percentage = (df.isnull().sum()/len(df))*100\n",
    "missing_value_percentage"
   ]
  },
  {
   "cell_type": "markdown",
   "id": "de733944",
   "metadata": {},
   "source": [
    "\n",
    "## 4. Check the statistical summary of both numerical and categorical columns and write your inferences."
   ]
  },
  {
   "cell_type": "code",
   "execution_count": 36,
   "id": "2a9816ae",
   "metadata": {},
   "outputs": [
    {
     "data": {
      "text/html": [
       "<div>\n",
       "<style scoped>\n",
       "    .dataframe tbody tr th:only-of-type {\n",
       "        vertical-align: middle;\n",
       "    }\n",
       "\n",
       "    .dataframe tbody tr th {\n",
       "        vertical-align: top;\n",
       "    }\n",
       "\n",
       "    .dataframe thead th {\n",
       "        text-align: right;\n",
       "    }\n",
       "</style>\n",
       "<table border=\"1\" class=\"dataframe\">\n",
       "  <thead>\n",
       "    <tr style=\"text-align: right;\">\n",
       "      <th></th>\n",
       "      <th>view_count</th>\n",
       "      <th>likes</th>\n",
       "      <th>dislikes</th>\n",
       "      <th>comment_count</th>\n",
       "    </tr>\n",
       "  </thead>\n",
       "  <tbody>\n",
       "    <tr>\n",
       "      <th>count</th>\n",
       "      <td>3.726400e+04</td>\n",
       "      <td>3.726400e+04</td>\n",
       "      <td>3.726400e+04</td>\n",
       "      <td>3.726400e+04</td>\n",
       "    </tr>\n",
       "    <tr>\n",
       "      <th>mean</th>\n",
       "      <td>5.710821e+06</td>\n",
       "      <td>1.672867e+05</td>\n",
       "      <td>4.996434e+03</td>\n",
       "      <td>9.966953e+03</td>\n",
       "    </tr>\n",
       "    <tr>\n",
       "      <th>std</th>\n",
       "      <td>2.431304e+07</td>\n",
       "      <td>5.384931e+05</td>\n",
       "      <td>3.075194e+04</td>\n",
       "      <td>1.173465e+05</td>\n",
       "    </tr>\n",
       "    <tr>\n",
       "      <th>min</th>\n",
       "      <td>2.036800e+04</td>\n",
       "      <td>2.200000e+01</td>\n",
       "      <td>3.000000e+00</td>\n",
       "      <td>1.000000e+00</td>\n",
       "    </tr>\n",
       "    <tr>\n",
       "      <th>25%</th>\n",
       "      <td>5.141305e+05</td>\n",
       "      <td>1.331725e+04</td>\n",
       "      <td>2.827500e+02</td>\n",
       "      <td>9.140000e+02</td>\n",
       "    </tr>\n",
       "    <tr>\n",
       "      <th>50%</th>\n",
       "      <td>1.321860e+06</td>\n",
       "      <td>4.255600e+04</td>\n",
       "      <td>7.980000e+02</td>\n",
       "      <td>2.347000e+03</td>\n",
       "    </tr>\n",
       "    <tr>\n",
       "      <th>75%</th>\n",
       "      <td>3.674527e+06</td>\n",
       "      <td>1.309665e+05</td>\n",
       "      <td>2.466250e+03</td>\n",
       "      <td>6.212000e+03</td>\n",
       "    </tr>\n",
       "    <tr>\n",
       "      <th>max</th>\n",
       "      <td>1.322797e+09</td>\n",
       "      <td>3.183768e+07</td>\n",
       "      <td>2.397733e+06</td>\n",
       "      <td>1.607103e+07</td>\n",
       "    </tr>\n",
       "  </tbody>\n",
       "</table>\n",
       "</div>"
      ],
      "text/plain": [
       "         view_count         likes      dislikes  comment_count\n",
       "count  3.726400e+04  3.726400e+04  3.726400e+04   3.726400e+04\n",
       "mean   5.710821e+06  1.672867e+05  4.996434e+03   9.966953e+03\n",
       "std    2.431304e+07  5.384931e+05  3.075194e+04   1.173465e+05\n",
       "min    2.036800e+04  2.200000e+01  3.000000e+00   1.000000e+00\n",
       "25%    5.141305e+05  1.331725e+04  2.827500e+02   9.140000e+02\n",
       "50%    1.321860e+06  4.255600e+04  7.980000e+02   2.347000e+03\n",
       "75%    3.674527e+06  1.309665e+05  2.466250e+03   6.212000e+03\n",
       "max    1.322797e+09  3.183768e+07  2.397733e+06   1.607103e+07"
      ]
     },
     "execution_count": 36,
     "metadata": {},
     "output_type": "execute_result"
    }
   ],
   "source": [
    "numerical_summary = df.describe()\n",
    "numerical_summary "
   ]
  },
  {
   "cell_type": "raw",
   "id": "3740c1a0",
   "metadata": {},
   "source": [
    "count: The number of data points (videos) in the dataset.\n",
    "mean: The average value of each metric across all the videos.\n",
    "std: The standard deviation, which indicates the spread or dispersion of the values from the mean.\n",
    "min: The minimum value observed for each metric.\n",
    "25%: The first quartile value (25th percentile), indicating the value below which 25% of the data falls.\n",
    "50%: The second quartile value (50th percentile), also known as the median, which represents the value below which 50% of the data falls.\n",
    "75%: The third quartile value (75th percentile), indicating the value below which 75% of the data falls.\n",
    "max: The maximum value observed for each metric."
   ]
  },
  {
   "cell_type": "code",
   "execution_count": 37,
   "id": "aa61a484",
   "metadata": {
    "scrolled": true
   },
   "outputs": [
    {
     "data": {
      "text/html": [
       "<div>\n",
       "<style scoped>\n",
       "    .dataframe tbody tr th:only-of-type {\n",
       "        vertical-align: middle;\n",
       "    }\n",
       "\n",
       "    .dataframe tbody tr th {\n",
       "        vertical-align: top;\n",
       "    }\n",
       "\n",
       "    .dataframe thead th {\n",
       "        text-align: right;\n",
       "    }\n",
       "</style>\n",
       "<table border=\"1\" class=\"dataframe\">\n",
       "  <thead>\n",
       "    <tr style=\"text-align: right;\">\n",
       "      <th></th>\n",
       "      <th>video_id</th>\n",
       "      <th>title</th>\n",
       "      <th>channel_id</th>\n",
       "      <th>channel_title</th>\n",
       "      <th>published_at</th>\n",
       "      <th>tags</th>\n",
       "      <th>description</th>\n",
       "      <th>comments</th>\n",
       "    </tr>\n",
       "  </thead>\n",
       "  <tbody>\n",
       "    <tr>\n",
       "      <th>count</th>\n",
       "      <td>37264</td>\n",
       "      <td>37264</td>\n",
       "      <td>37264</td>\n",
       "      <td>37264</td>\n",
       "      <td>37264</td>\n",
       "      <td>37264</td>\n",
       "      <td>37264</td>\n",
       "      <td>37264</td>\n",
       "    </tr>\n",
       "    <tr>\n",
       "      <th>unique</th>\n",
       "      <td>37264</td>\n",
       "      <td>36958</td>\n",
       "      <td>10891</td>\n",
       "      <td>10813</td>\n",
       "      <td>36617</td>\n",
       "      <td>28705</td>\n",
       "      <td>35479</td>\n",
       "      <td>37264</td>\n",
       "    </tr>\n",
       "    <tr>\n",
       "      <th>top</th>\n",
       "      <td>--0bCF-iK2E</td>\n",
       "      <td>www</td>\n",
       "      <td>UCNAf1k0yIjyGu3k9BwAg3lg</td>\n",
       "      <td>Sky Sports Football</td>\n",
       "      <td>2020-10-16 04:00:10</td>\n",
       "      <td></td>\n",
       "      <td></td>\n",
       "      <td>Respect to Dortmund fans,must be sad losing hi...</td>\n",
       "    </tr>\n",
       "    <tr>\n",
       "      <th>freq</th>\n",
       "      <td>1</td>\n",
       "      <td>21</td>\n",
       "      <td>533</td>\n",
       "      <td>533</td>\n",
       "      <td>6</td>\n",
       "      <td>3808</td>\n",
       "      <td>587</td>\n",
       "      <td>1</td>\n",
       "    </tr>\n",
       "  </tbody>\n",
       "</table>\n",
       "</div>"
      ],
      "text/plain": [
       "           video_id  title                channel_id        channel_title  \\\n",
       "count         37264  37264                     37264                37264   \n",
       "unique        37264  36958                     10891                10813   \n",
       "top     --0bCF-iK2E    www  UCNAf1k0yIjyGu3k9BwAg3lg  Sky Sports Football   \n",
       "freq              1     21                       533                  533   \n",
       "\n",
       "               published_at   tags description  \\\n",
       "count                 37264  37264       37264   \n",
       "unique                36617  28705       35479   \n",
       "top     2020-10-16 04:00:10                      \n",
       "freq                      6   3808         587   \n",
       "\n",
       "                                                 comments  \n",
       "count                                               37264  \n",
       "unique                                              37264  \n",
       "top     Respect to Dortmund fans,must be sad losing hi...  \n",
       "freq                                                    1  "
      ]
     },
     "execution_count": 37,
     "metadata": {},
     "output_type": "execute_result"
    }
   ],
   "source": [
    "#excluded int datatypes to display statistics of categorical values\n",
    "df.describe(exclude='int')"
   ]
  },
  {
   "cell_type": "raw",
   "id": "1179f1ef",
   "metadata": {},
   "source": [
    "The summary includes various statistics for each column, such as the count, unique values, most common values, and frequency. The dataset seems to contain information about videos, including their video IDs, titles, channel IDs, channel titles, publication dates, tags, descriptions, and comments."
   ]
  },
  {
   "cell_type": "markdown",
   "id": "503311f4",
   "metadata": {},
   "source": [
    "## 5. Convert datatype of column published_at from object to pandas datetime.\n"
   ]
  },
  {
   "cell_type": "code",
   "execution_count": 19,
   "id": "3f307ac8",
   "metadata": {},
   "outputs": [
    {
     "data": {
      "text/html": [
       "<div>\n",
       "<style scoped>\n",
       "    .dataframe tbody tr th:only-of-type {\n",
       "        vertical-align: middle;\n",
       "    }\n",
       "\n",
       "    .dataframe tbody tr th {\n",
       "        vertical-align: top;\n",
       "    }\n",
       "\n",
       "    .dataframe thead th {\n",
       "        text-align: right;\n",
       "    }\n",
       "</style>\n",
       "<table border=\"1\" class=\"dataframe\">\n",
       "  <thead>\n",
       "    <tr style=\"text-align: right;\">\n",
       "      <th></th>\n",
       "      <th>published_at</th>\n",
       "    </tr>\n",
       "  </thead>\n",
       "  <tbody>\n",
       "    <tr>\n",
       "      <th>0</th>\n",
       "      <td>2021-07-01 10:00:00</td>\n",
       "    </tr>\n",
       "    <tr>\n",
       "      <th>1</th>\n",
       "      <td>2021-06-10 16:00:00</td>\n",
       "    </tr>\n",
       "    <tr>\n",
       "      <th>2</th>\n",
       "      <td>2021-09-20 01:03:32</td>\n",
       "    </tr>\n",
       "    <tr>\n",
       "      <th>3</th>\n",
       "      <td>2021-03-03 10:00:17</td>\n",
       "    </tr>\n",
       "    <tr>\n",
       "      <th>4</th>\n",
       "      <td>2021-12-07 13:00:00</td>\n",
       "    </tr>\n",
       "    <tr>\n",
       "      <th>...</th>\n",
       "      <td>...</td>\n",
       "    </tr>\n",
       "    <tr>\n",
       "      <th>37417</th>\n",
       "      <td>2021-02-12 05:03:49</td>\n",
       "    </tr>\n",
       "    <tr>\n",
       "      <th>37418</th>\n",
       "      <td>2021-01-16 05:39:05</td>\n",
       "    </tr>\n",
       "    <tr>\n",
       "      <th>37419</th>\n",
       "      <td>2021-06-02 09:00:10</td>\n",
       "    </tr>\n",
       "    <tr>\n",
       "      <th>37420</th>\n",
       "      <td>2020-10-20 20:59:30</td>\n",
       "    </tr>\n",
       "    <tr>\n",
       "      <th>37421</th>\n",
       "      <td>2021-05-23 21:00:31</td>\n",
       "    </tr>\n",
       "  </tbody>\n",
       "</table>\n",
       "<p>37422 rows × 1 columns</p>\n",
       "</div>"
      ],
      "text/plain": [
       "             published_at\n",
       "0     2021-07-01 10:00:00\n",
       "1     2021-06-10 16:00:00\n",
       "2     2021-09-20 01:03:32\n",
       "3     2021-03-03 10:00:17\n",
       "4     2021-12-07 13:00:00\n",
       "...                   ...\n",
       "37417 2021-02-12 05:03:49\n",
       "37418 2021-01-16 05:39:05\n",
       "37419 2021-06-02 09:00:10\n",
       "37420 2020-10-20 20:59:30\n",
       "37421 2021-05-23 21:00:31\n",
       "\n",
       "[37422 rows x 1 columns]"
      ]
     },
     "execution_count": 19,
     "metadata": {},
     "output_type": "execute_result"
    }
   ],
   "source": [
    "#converted 'published_at' colum to date and time\n",
    "pd.DataFrame(pd.to_datetime(df['published_at']))"
   ]
  },
  {
   "cell_type": "code",
   "execution_count": 39,
   "id": "e45af738",
   "metadata": {},
   "outputs": [
    {
     "data": {
      "text/plain": [
       "video_id                 object\n",
       "title                    object\n",
       "channel_id               object\n",
       "channel_title            object\n",
       "published_at     datetime64[ns]\n",
       "view_count                int64\n",
       "likes                     int64\n",
       "dislikes                  int64\n",
       "comment_count             int64\n",
       "tags                     object\n",
       "description              object\n",
       "comments                 object\n",
       "dtype: object"
      ]
     },
     "execution_count": 39,
     "metadata": {},
     "output_type": "execute_result"
    }
   ],
   "source": [
    "df.dtypes"
   ]
  },
  {
   "cell_type": "markdown",
   "id": "c973c09a",
   "metadata": {},
   "source": [
    "## 6. Create a new column as 'published_month' using the column published_at (display the months only)\n"
   ]
  },
  {
   "cell_type": "code",
   "execution_count": 40,
   "id": "00df6c67",
   "metadata": {},
   "outputs": [
    {
     "data": {
      "text/plain": [
       "0         7\n",
       "1         6\n",
       "2         9\n",
       "3         3\n",
       "4        12\n",
       "         ..\n",
       "37417     2\n",
       "37418     1\n",
       "37419     6\n",
       "37420    10\n",
       "37421     5\n",
       "Name: published_month, Length: 37264, dtype: int32"
      ]
     },
     "execution_count": 40,
     "metadata": {},
     "output_type": "execute_result"
    }
   ],
   "source": [
    "#created a new column 'published_month' and extracted only months from 'published_at' column\n",
    "df['published_month']=df['published_at'].dt.month\n",
    "df.published_month"
   ]
  },
  {
   "cell_type": "markdown",
   "id": "c8ed1a32",
   "metadata": {},
   "source": [
    "## 7. Replace the numbers in the column published_month as names of the months i,e., 1 as 'Jan', 2 as 'Feb' and so on..."
   ]
  },
  {
   "cell_type": "code",
   "execution_count": 41,
   "id": "7a021d69",
   "metadata": {
    "scrolled": true
   },
   "outputs": [
    {
     "data": {
      "text/plain": [
       "0         Jul\n",
       "1         Jun\n",
       "2        Sept\n",
       "3         Mar\n",
       "4         Dec\n",
       "         ... \n",
       "37417     Feb\n",
       "37418     Jan\n",
       "37419     Jun\n",
       "37420     Oct\n",
       "37421     May\n",
       "Name: published_month, Length: 37264, dtype: object"
      ]
     },
     "execution_count": 41,
     "metadata": {},
     "output_type": "execute_result"
    }
   ],
   "source": [
    "months={1:'Jan',2:'Feb',3:'Mar',4:'Apr',5:'May',6:'Jun',7:'Jul',8:'Aug',9:'Sept',10:'Oct',11:'Nov',12:'Dec'}\n",
    "df['published_month']=df['published_month'].map(months)\n",
    "df['published_month']"
   ]
  },
  {
   "cell_type": "markdown",
   "id": "4288308b",
   "metadata": {},
   "source": [
    "## 8. Find the number of videos published each month and arrange the months in a decreasing order based on the video count."
   ]
  },
  {
   "cell_type": "code",
   "execution_count": 42,
   "id": "fbec13bc",
   "metadata": {},
   "outputs": [
    {
     "data": {
      "text/html": [
       "<div>\n",
       "<style scoped>\n",
       "    .dataframe tbody tr th:only-of-type {\n",
       "        vertical-align: middle;\n",
       "    }\n",
       "\n",
       "    .dataframe tbody tr th {\n",
       "        vertical-align: top;\n",
       "    }\n",
       "\n",
       "    .dataframe thead th {\n",
       "        text-align: right;\n",
       "    }\n",
       "</style>\n",
       "<table border=\"1\" class=\"dataframe\">\n",
       "  <thead>\n",
       "    <tr style=\"text-align: right;\">\n",
       "      <th></th>\n",
       "      <th>published_month</th>\n",
       "      <th>grp_by_months</th>\n",
       "    </tr>\n",
       "  </thead>\n",
       "  <tbody>\n",
       "    <tr>\n",
       "      <th>10</th>\n",
       "      <td>Oct</td>\n",
       "      <td>4976</td>\n",
       "    </tr>\n",
       "    <tr>\n",
       "      <th>11</th>\n",
       "      <td>Sept</td>\n",
       "      <td>4854</td>\n",
       "    </tr>\n",
       "    <tr>\n",
       "      <th>9</th>\n",
       "      <td>Nov</td>\n",
       "      <td>4821</td>\n",
       "    </tr>\n",
       "    <tr>\n",
       "      <th>1</th>\n",
       "      <td>Aug</td>\n",
       "      <td>4250</td>\n",
       "    </tr>\n",
       "    <tr>\n",
       "      <th>2</th>\n",
       "      <td>Dec</td>\n",
       "      <td>3063</td>\n",
       "    </tr>\n",
       "    <tr>\n",
       "      <th>5</th>\n",
       "      <td>Jul</td>\n",
       "      <td>2331</td>\n",
       "    </tr>\n",
       "    <tr>\n",
       "      <th>6</th>\n",
       "      <td>Jun</td>\n",
       "      <td>2305</td>\n",
       "    </tr>\n",
       "    <tr>\n",
       "      <th>7</th>\n",
       "      <td>Mar</td>\n",
       "      <td>2248</td>\n",
       "    </tr>\n",
       "    <tr>\n",
       "      <th>3</th>\n",
       "      <td>Feb</td>\n",
       "      <td>2125</td>\n",
       "    </tr>\n",
       "    <tr>\n",
       "      <th>0</th>\n",
       "      <td>Apr</td>\n",
       "      <td>2119</td>\n",
       "    </tr>\n",
       "    <tr>\n",
       "      <th>4</th>\n",
       "      <td>Jan</td>\n",
       "      <td>2099</td>\n",
       "    </tr>\n",
       "    <tr>\n",
       "      <th>8</th>\n",
       "      <td>May</td>\n",
       "      <td>2073</td>\n",
       "    </tr>\n",
       "  </tbody>\n",
       "</table>\n",
       "</div>"
      ],
      "text/plain": [
       "   published_month  grp_by_months\n",
       "10             Oct           4976\n",
       "11            Sept           4854\n",
       "9              Nov           4821\n",
       "1              Aug           4250\n",
       "2              Dec           3063\n",
       "5              Jul           2331\n",
       "6              Jun           2305\n",
       "7              Mar           2248\n",
       "3              Feb           2125\n",
       "0              Apr           2119\n",
       "4              Jan           2099\n",
       "8              May           2073"
      ]
     },
     "execution_count": 42,
     "metadata": {},
     "output_type": "execute_result"
    }
   ],
   "source": [
    "grouped1= df.groupby('published_month').size().reset_index(name='grp_by_months')\n",
    "grouped1.sort_values(by='grp_by_months',ascending=False)"
   ]
  },
  {
   "cell_type": "markdown",
   "id": "da2b52c0",
   "metadata": {},
   "source": [
    "## 9. Find the count of unique video_id, channel_id and channel_title."
   ]
  },
  {
   "cell_type": "code",
   "execution_count": 43,
   "id": "c28ba851",
   "metadata": {},
   "outputs": [
    {
     "name": "stdout",
     "output_type": "stream",
     "text": [
      "No of unique elements present in video_id column :  37264\n",
      "No of unique elements present in channel_id column :  10891\n",
      "No of unique elements present in channel_title column :  10813\n"
     ]
    }
   ],
   "source": [
    "count_video_id_unique = df['video_id'].nunique()\n",
    "count_channel_id_unique = df['channel_id'].nunique()\n",
    "count_channel_title_unique = df['channel_title'].nunique()\n",
    "print('No of unique elements present in video_id column : ',count_video_id_unique)\n",
    "print('No of unique elements present in channel_id column : ',count_channel_id_unique)\n",
    "print('No of unique elements present in channel_title column : ',count_channel_title_unique)"
   ]
  },
  {
   "cell_type": "markdown",
   "id": "ce703aec",
   "metadata": {},
   "source": [
    "## 10. Find the top10 channel names having the highest number of videos in the dataset and the bottom10 having lowest number of videos."
   ]
  },
  {
   "cell_type": "markdown",
   "id": "ea4bfaca",
   "metadata": {},
   "source": [
    "## Top10 channel names having the highest number of videos"
   ]
  },
  {
   "cell_type": "code",
   "execution_count": 44,
   "id": "30c7e031",
   "metadata": {},
   "outputs": [
    {
     "data": {
      "text/html": [
       "<div>\n",
       "<style scoped>\n",
       "    .dataframe tbody tr th:only-of-type {\n",
       "        vertical-align: middle;\n",
       "    }\n",
       "\n",
       "    .dataframe tbody tr th {\n",
       "        vertical-align: top;\n",
       "    }\n",
       "\n",
       "    .dataframe thead th {\n",
       "        text-align: right;\n",
       "    }\n",
       "</style>\n",
       "<table border=\"1\" class=\"dataframe\">\n",
       "  <thead>\n",
       "    <tr style=\"text-align: right;\">\n",
       "      <th></th>\n",
       "      <th>channel_title</th>\n",
       "      <th>videos_published</th>\n",
       "    </tr>\n",
       "  </thead>\n",
       "  <tbody>\n",
       "    <tr>\n",
       "      <th>8223</th>\n",
       "      <td>Sky Sports Football</td>\n",
       "      <td>533</td>\n",
       "    </tr>\n",
       "    <tr>\n",
       "      <th>9098</th>\n",
       "      <td>The United Stand</td>\n",
       "      <td>301</td>\n",
       "    </tr>\n",
       "    <tr>\n",
       "      <th>1085</th>\n",
       "      <td>BT Sport</td>\n",
       "      <td>246</td>\n",
       "    </tr>\n",
       "    <tr>\n",
       "      <th>6310</th>\n",
       "      <td>NBA</td>\n",
       "      <td>209</td>\n",
       "    </tr>\n",
       "    <tr>\n",
       "      <th>6347</th>\n",
       "      <td>NFL</td>\n",
       "      <td>162</td>\n",
       "    </tr>\n",
       "    <tr>\n",
       "      <th>9780</th>\n",
       "      <td>WWE</td>\n",
       "      <td>122</td>\n",
       "    </tr>\n",
       "    <tr>\n",
       "      <th>7809</th>\n",
       "      <td>SSSniperWolf</td>\n",
       "      <td>99</td>\n",
       "    </tr>\n",
       "    <tr>\n",
       "      <th>7810</th>\n",
       "      <td>SSundee</td>\n",
       "      <td>98</td>\n",
       "    </tr>\n",
       "    <tr>\n",
       "      <th>3037</th>\n",
       "      <td>FORMULA 1</td>\n",
       "      <td>87</td>\n",
       "    </tr>\n",
       "    <tr>\n",
       "      <th>6352</th>\n",
       "      <td>NHL</td>\n",
       "      <td>86</td>\n",
       "    </tr>\n",
       "  </tbody>\n",
       "</table>\n",
       "</div>"
      ],
      "text/plain": [
       "            channel_title  videos_published\n",
       "8223  Sky Sports Football               533\n",
       "9098     The United Stand               301\n",
       "1085             BT Sport               246\n",
       "6310                  NBA               209\n",
       "6347                  NFL               162\n",
       "9780                  WWE               122\n",
       "7809         SSSniperWolf                99\n",
       "7810              SSundee                98\n",
       "3037            FORMULA 1                87\n",
       "6352                  NHL                86"
      ]
     },
     "execution_count": 44,
     "metadata": {},
     "output_type": "execute_result"
    }
   ],
   "source": [
    "grouped= df.groupby('channel_title').size().reset_index(name='videos_published')\n",
    "grouped.sort_values(by='videos_published',ascending=False).head(10)"
   ]
  },
  {
   "cell_type": "markdown",
   "id": "18edeba5",
   "metadata": {},
   "source": [
    "## Bottom10 having lowest number of videos."
   ]
  },
  {
   "cell_type": "code",
   "execution_count": 45,
   "id": "6585029a",
   "metadata": {},
   "outputs": [
    {
     "data": {
      "text/html": [
       "<div>\n",
       "<style scoped>\n",
       "    .dataframe tbody tr th:only-of-type {\n",
       "        vertical-align: middle;\n",
       "    }\n",
       "\n",
       "    .dataframe tbody tr th {\n",
       "        vertical-align: top;\n",
       "    }\n",
       "\n",
       "    .dataframe thead th {\n",
       "        text-align: right;\n",
       "    }\n",
       "</style>\n",
       "<table border=\"1\" class=\"dataframe\">\n",
       "  <thead>\n",
       "    <tr style=\"text-align: right;\">\n",
       "      <th></th>\n",
       "      <th>channel_title</th>\n",
       "      <th>videos_published</th>\n",
       "    </tr>\n",
       "  </thead>\n",
       "  <tbody>\n",
       "    <tr>\n",
       "      <th>0</th>\n",
       "      <td>SilverName</td>\n",
       "      <td>1</td>\n",
       "    </tr>\n",
       "    <tr>\n",
       "      <th>6048</th>\n",
       "      <td>Miniatur Wunderland</td>\n",
       "      <td>1</td>\n",
       "    </tr>\n",
       "    <tr>\n",
       "      <th>6047</th>\n",
       "      <td>MiniBloxia</td>\n",
       "      <td>1</td>\n",
       "    </tr>\n",
       "    <tr>\n",
       "      <th>6046</th>\n",
       "      <td>Mini Muka</td>\n",
       "      <td>1</td>\n",
       "    </tr>\n",
       "    <tr>\n",
       "      <th>6045</th>\n",
       "      <td>Mini Ladd</td>\n",
       "      <td>1</td>\n",
       "    </tr>\n",
       "    <tr>\n",
       "      <th>6042</th>\n",
       "      <td>MindYourLogic</td>\n",
       "      <td>1</td>\n",
       "    </tr>\n",
       "    <tr>\n",
       "      <th>6041</th>\n",
       "      <td>Mind Body Tonic With Dr Sita</td>\n",
       "      <td>1</td>\n",
       "    </tr>\n",
       "    <tr>\n",
       "      <th>6039</th>\n",
       "      <td>Mimi Ar</td>\n",
       "      <td>1</td>\n",
       "    </tr>\n",
       "    <tr>\n",
       "      <th>6037</th>\n",
       "      <td>Millyz</td>\n",
       "      <td>1</td>\n",
       "    </tr>\n",
       "    <tr>\n",
       "      <th>6034</th>\n",
       "      <td>Milkair</td>\n",
       "      <td>1</td>\n",
       "    </tr>\n",
       "  </tbody>\n",
       "</table>\n",
       "</div>"
      ],
      "text/plain": [
       "                     channel_title  videos_published\n",
       "0                       SilverName                 1\n",
       "6048           Miniatur Wunderland                 1\n",
       "6047                    MiniBloxia                 1\n",
       "6046                     Mini Muka                 1\n",
       "6045                     Mini Ladd                 1\n",
       "6042                 MindYourLogic                 1\n",
       "6041  Mind Body Tonic With Dr Sita                 1\n",
       "6039                       Mimi Ar                 1\n",
       "6037                        Millyz                 1\n",
       "6034                       Milkair                 1"
      ]
     },
     "execution_count": 45,
     "metadata": {},
     "output_type": "execute_result"
    }
   ],
   "source": [
    "grouped.sort_values(by='videos_published',ascending=True).head(10)"
   ]
  },
  {
   "cell_type": "markdown",
   "id": "4d1cbe8b",
   "metadata": {},
   "source": [
    "## 11. Find the title of the video which has the maximum number of likes and the title of the video having minimum likes and write your inferences."
   ]
  },
  {
   "cell_type": "code",
   "execution_count": 46,
   "id": "d9c1bef3",
   "metadata": {},
   "outputs": [
    {
     "name": "stdout",
     "output_type": "stream",
     "text": [
      "Video with Maximum Likes: BTS () 'Dynamite' Official MV\n"
     ]
    }
   ],
   "source": [
    "#Maximum number of likes\n",
    "max_likes_index = df['likes'].idxmax()\n",
    "video_title_max_likes = df.loc[max_likes_index, 'title']\n",
    "print(\"Video with Maximum Likes:\", video_title_max_likes)"
   ]
  },
  {
   "cell_type": "raw",
   "id": "bbea0b6a",
   "metadata": {},
   "source": [
    "INFERENCES\n",
    "The video with the title \"BTS () 'Dynamite' Official MV\" has received the maximum number of likes among all the videos in the dataset.\n",
    "The dataset likely includes information about videos, including their titles, likes, and potentially other attributes."
   ]
  },
  {
   "cell_type": "code",
   "execution_count": 47,
   "id": "c18a568e",
   "metadata": {},
   "outputs": [
    {
     "name": "stdout",
     "output_type": "stream",
     "text": [
      "Video with Minimum Likes: Leading the Charge | Circle K\n"
     ]
    }
   ],
   "source": [
    "#Minimum number of likes\n",
    "min_likes_index = df['likes'].idxmin()\n",
    "video_title_min_likes = df.loc[min_likes_index, 'title']\n",
    "print(\"Video with Minimum Likes:\", video_title_min_likes)"
   ]
  },
  {
   "cell_type": "raw",
   "id": "eac217cc",
   "metadata": {},
   "source": [
    "INFERENCES\n",
    "The video with the title \"Leading the Charge | Circle K\" has received the minimum number of likes among all the videos in the dataset.\n",
    "This video might have received fewer likes compared to the other videos, indicating that it might not have been as popular or well-received by viewers.\n",
    "The dataset likely includes information about various videos, including their titles, likes, and potentially other attributes."
   ]
  },
  {
   "cell_type": "markdown",
   "id": "f294bbfd",
   "metadata": {},
   "source": [
    "## 12. Find the title of the video which has the maximum number of dislikes and the title of the video having minimum dislikes and write your inferences."
   ]
  },
  {
   "cell_type": "markdown",
   "id": "abc27bd5",
   "metadata": {},
   "source": [
    "## Maximum number of dislikes"
   ]
  },
  {
   "cell_type": "code",
   "execution_count": 48,
   "id": "4d8cd1d2",
   "metadata": {},
   "outputs": [
    {
     "name": "stdout",
     "output_type": "stream",
     "text": [
      "Video with Maximum Dislikes: Cuties | Official Trailer | Netflix\n"
     ]
    }
   ],
   "source": [
    "max_dislikes_index = df['dislikes'].idxmax()\n",
    "video_title_max_dislikes = df.loc[max_dislikes_index, 'title']\n",
    "print(\"Video with Maximum Dislikes:\", video_title_max_dislikes)"
   ]
  },
  {
   "cell_type": "raw",
   "id": "d7af3cca",
   "metadata": {},
   "source": [
    "INFERENCES\n",
    "The video with the title \"Cuties | Official Trailer | Netflix\" has received the maximum number of dislikes among all the videos in the dataset.\n",
    "This video might have faced significant backlash or negative sentiment from viewers, as reflected by the high number of dislikes.\n",
    "The dataset likely includes information about various videos, including their titles, dislikes, and potentially other attributes."
   ]
  },
  {
   "cell_type": "markdown",
   "id": "f911af6c",
   "metadata": {},
   "source": [
    "## Minimum number of dislikes"
   ]
  },
  {
   "cell_type": "code",
   "execution_count": 49,
   "id": "d20cf56a",
   "metadata": {},
   "outputs": [
    {
     "name": "stdout",
     "output_type": "stream",
     "text": [
      "Video with Minimum Dislikes: Tims For Good: A Taste Of The Familiar\n"
     ]
    }
   ],
   "source": [
    "min_dislikes_index = df['dislikes'].idxmin()\n",
    "video_title_min_dislikes = df.loc[min_dislikes_index, 'title']\n",
    "print(\"Video with Minimum Dislikes:\", video_title_min_dislikes)"
   ]
  },
  {
   "cell_type": "raw",
   "id": "06412582",
   "metadata": {},
   "source": [
    "INFERENCES\n",
    "The video with the title \"Tims For Good: A Taste Of The Familiar\" has received the minimum number of dislikes among all the videos in the dataset.\n",
    "This video has likely been well-received by viewers, as reflected by the low number of dislikes.\n",
    "The dataset likely includes information about various videos, including their titles, dislikes, and potentially other attributes."
   ]
  },
  {
   "cell_type": "markdown",
   "id": "f8dfcbe3",
   "metadata": {},
   "source": [
    "## 13. Does the number of views have any effect on how many people disliked the video? Support your answer with a metric and a plot."
   ]
  },
  {
   "cell_type": "code",
   "execution_count": 16,
   "id": "63e9de01",
   "metadata": {},
   "outputs": [],
   "source": [
    "df['dislikes rate'] = df['dislikes']/df['view_count']*100"
   ]
  },
  {
   "cell_type": "code",
   "execution_count": 18,
   "id": "4c6c9291",
   "metadata": {},
   "outputs": [
    {
     "data": {
      "image/png": "[encoded data removed]",
      "text/plain": [
       "<Figure size 640x480 with 1 Axes>"
      ]
     },
     "metadata": {},
     "output_type": "display_data"
    }
   ],
   "source": [
    "pd.DataFrame(df[['dislikes rate','view_count']]).plot(x='view_count',y='dislikes rate',kind='scatter');"
   ]
  },
  {
   "cell_type": "code",
   "execution_count": 9,
   "id": "52528061",
   "metadata": {},
   "outputs": [
    {
     "data": {
      "image/png": "[encoded data removed]",
      "text/plain": [
       "<Figure size 640x480 with 2 Axes>"
      ]
     },
     "metadata": {},
     "output_type": "display_data"
    }
   ],
   "source": [
    "df_num = df.select_dtypes(exclude = 'O')\n",
    "sns.heatmap(df_num.corr(),annot=True,cmap='viridis');"
   ]
  },
  {
   "cell_type": "raw",
   "id": "a0c7d1e7",
   "metadata": {},
   "source": [
    "INFERENCES\n",
    "1. Correlation Coefficient:\n",
    "   The correlation coefficient is a metric that measures the strength and direction of a linear relationship between two variables. It ranges from -1 to 1, where:\n",
    "   - A value close to 1 indicates a strong positive correlation (as one variable increases, the other tends to increase).\n",
    "   - A value close to -1 indicates a strong negative correlation (as one variable increases, the other tends to decrease).\n",
    "   - A value close to 0 indicates a weak or no linear correlation between the variables.\n",
    "\n",
    "2. Scatter Plot:\n",
    "   A scatter plot is a visual representation of data points in a two-dimensional space. It helps us understand the relationship between two variables by showing how they vary together.\n",
    "\n",
    "- Correlation Metric:\n",
    "   The correlation coefficient between 'view_count' and 'dislikes' is calculated using `df['view_count'].corr(df['dislikes'])`. If the correlation coefficient is positive and close to 1, it would suggest that videos with more views tend to have more dislikes, indicating a potential negative sentiment associated with higher views.\n",
    "\n",
    "- Scatter Plot:\n",
    "   The scatter plot created using `sns.scatterplot` visualizes the 'view_count' on the x-axis and 'dislikes' on the y-axis. Each point on the plot represents a video in the dataset. If the points tend to follow an upward trend (as 'view_count' increases, 'dislikes' also tend to increase), it would support the idea of a potential negative sentiment associated with higher views.\n",
    "\n",
    "By looking at the correlation coefficient and the scatter plot, you can draw conclusions about the relationship between the number of views and the number of dislikes for the videos in your dataset. If the correlation is indeed positive and the scatter plot shows an upward trend, it might suggest that more popular videos tend to attract more negative sentiment in terms of dislikes. However, remember that correlation doesn't imply causation, so further analysis and context are necessary to understand the underlying reasons for this relationship."
   ]
  },
  {
   "cell_type": "markdown",
   "id": "7ea51ef9",
   "metadata": {},
   "source": [
    "## 14. Display all the information about the videos that were published in January, and mention the count of videos that were published in January."
   ]
  },
  {
   "cell_type": "code",
   "execution_count": 52,
   "id": "0fd02862",
   "metadata": {},
   "outputs": [
    {
     "name": "stdout",
     "output_type": "stream",
     "text": [
      "          video_id                                              title  \\\n",
      "27     -2Gwm7QfBnE                                    Q&A With Naisha   \n",
      "48     -4sfXSHSxzA           SURPRISING BRENT WITH HIS TIKTOK CRUSH!!   \n",
      "95     -AJD1Fc5rpQ  WE ARE HAVING A BABY! | finding out i'm pregna...   \n",
      "103    -AuJiwjsmWk              Do Ugly Foods Taste Worse? Taste Test   \n",
      "182    -JhqO2KWr5U                                   Schlatt gets fit   \n",
      "...            ...                                                ...   \n",
      "37300  zmzFL5bG-jc  DEVINE MON PERSONNAGE AVANT AKINATOR ! (c'est ...   \n",
      "37329  zpzjex7qwrA  Lampard Sacked Within Days Rorys Misery | Chel...   \n",
      "37345  zqyv-B6mnBM                 Lil Wayne - Ain't Got Time (Audio)   \n",
      "37383  zwfu1-24T7Q  PRADA Cup Day 1 | Full Race Replay | PRADA Cup...   \n",
      "37418  zziBybeSAtw  PELICANS at LAKERS | FULL GAME HIGHLIGHTS | Ja...   \n",
      "\n",
      "                     channel_id       channel_title        published_at  \\\n",
      "27     UCYwNMbogQFzMccPSuy-pPWg           MianTwins 2021-01-21 00:05:47   \n",
      "48     UCPpATKqmMV-CNRNWYaDUwiA        Alexa Rivera 2021-01-16 21:40:04   \n",
      "95     UCVsTboAhpnuL6j-tDePvNwQ      Tess Christine 2021-01-03 21:53:48   \n",
      "103    UCzpCc5n9hqiVC7HhPwcIKEg  Good Mythical MORE 2021-01-19 11:00:01   \n",
      "182    UCWZp4y1jqBuvLtiyxSs_ZBw             Big guy 2021-01-24 22:50:57   \n",
      "...                         ...                 ...                 ...   \n",
      "37300  UCIlr3byh6wmXgcPx_Tm9Ocw             Piwerre 2021-01-16 16:12:19   \n",
      "37329  UCkD-ZOixI0a9FjIExDsHsbg        The Kick Off 2021-01-03 20:13:49   \n",
      "37345  UCO9zJy7HWrIS3ojB4Lr7Yqw           Lil Wayne 2021-01-21 05:00:10   \n",
      "37383  UCo15ZYO_XDRU9LI30OPtxAg       America's Cup 2021-01-15 04:07:55   \n",
      "37418  UCWJ2lWNubArHWmf3FIHbfcQ                 NBA 2021-01-16 05:39:05   \n",
      "\n",
      "       view_count   likes  dislikes  comment_count  \\\n",
      "27         872372   38626       239            621   \n",
      "48        6504784  262477      5779           7907   \n",
      "95         533084   38965       119           1650   \n",
      "103       1057077   22526       531            773   \n",
      "182       1724965  119431       325           1578   \n",
      "...           ...     ...       ...            ...   \n",
      "37300      670357   54462       832           1249   \n",
      "37329      428646   12060       296           1505   \n",
      "37345     2238244   58925      2365           5539   \n",
      "37383      317382    2008        83            192   \n",
      "37418     2841917   20759      1049           2624   \n",
      "\n",
      "                                                    tags  \\\n",
      "27                                                         \n",
      "48                                                         \n",
      "95                                                         \n",
      "103    gmm good mythical morning rhettandlink rhett a...   \n",
      "182    jschlatt big guy jschlatt highlights schlatt j...   \n",
      "...                                                  ...   \n",
      "37300  Piwerre frere de michou crouton among us devin...   \n",
      "37329  Premier league Chelsea chelsea 1-3 Man City Ch...   \n",
      "37345  lil wayne weezy weezy wednesday wayne carter y...   \n",
      "37383  America's Cup Americas Cup AC36 AC75 Presented...   \n",
      "37418  NBA G League Basketball game-0022000187 Lakers...   \n",
      "\n",
      "                                             description  \\\n",
      "27     Hey Guys!!! this has been the most requested v...   \n",
      "48     He had no idea! Thank you guys so much for wat...   \n",
      "95     I am so happy to tell you that I am pregnant!!...   \n",
      "103    Today, we're doing a blind taste test to deter...   \n",
      "182                    #jschlatt #schlatt #bigguy #short   \n",
      "...                                                  ...   \n",
      "37300   Discord Piwerre : https://discord.gg/QBduPgAA...   \n",
      "37329  The Kick Off watched Manchester City destroy C...   \n",
      "37345  Official audio for Lil Wayne \"Ain't Got Time\",...   \n",
      "37383  The opening day of the PRADA Cup in Auckland, ...   \n",
      "37418  PELICANS at LAKERS | FULL GAME HIGHLIGHTS | Ja...   \n",
      "\n",
      "                                                comments published_month  \n",
      "27     I feel like Nate and Aishas personality match ...             Jan  \n",
      "48     Thank you guys for watching and don't forget t...             Jan  \n",
      "95     Okay I needed a moment to collect my thoughts ...             Jan  \n",
      "103    \"there's nothing wrong with it being bent\"\\nI ...             Jan  \n",
      "182    Schlatt is single handedly wiping out all the ...             Jan  \n",
      "...                                                  ...             ...  \n",
      "37300  Mdr michou quand c'est pas ses tournage il fou...             Jan  \n",
      "37329  True Its like a fighter who Geordie But I thou...             Jan  \n",
      "37345  RIP Juice Wrld, wrote that on two cups, pour o...             Jan  \n",
      "37383  Incredible how these boats evolve in a short t...             Jan  \n",
      "37418  Montrezl Harrell is going crazy with the rebou...             Jan  \n",
      "\n",
      "[2099 rows x 13 columns]\n",
      "Count of videos published in January: 2099\n"
     ]
    }
   ],
   "source": [
    "january_videos = df[df['published_month']=='Jan']\n",
    "\n",
    "# Displaying all the information about videos published in January\n",
    "print(january_videos)\n",
    "\n",
    "#Counting the num of videos published in january\n",
    "count_january_videos = len(january_videos)\n",
    "print(\"Count of videos published in January:\", count_january_videos)"
   ]
  },
  {
   "cell_type": "raw",
   "id": "b1fe5b16",
   "metadata": {},
   "source": [
    "2099 videos were published in january."
   ]
  }
 ],
 "metadata": {
  "kernelspec": {
   "display_name": "Python 3 (ipykernel)",
   "language": "python",
   "name": "python3"
  },
  "language_info": {
   "codemirror_mode": {
    "name": "ipython",
    "version": 3
   },
   "file_extension": ".py",
   "mimetype": "text/x-python",
   "name": "python",
   "nbconvert_exporter": "python",
   "pygments_lexer": "ipython3",
   "version": "3.11.4"
  }
 },
 "nbformat": 4,
 "nbformat_minor": 5
}
